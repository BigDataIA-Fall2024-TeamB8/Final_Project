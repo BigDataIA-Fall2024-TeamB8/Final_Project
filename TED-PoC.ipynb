{
 "cells": [
  {
   "cell_type": "code",
   "execution_count": 1,
   "id": "420dd11d",
   "metadata": {},
   "outputs": [
    {
     "name": "stdout",
     "output_type": "stream",
     "text": [
      "Navigating to https://www.ted.com/talks?sort=newest\n"
     ]
    },
    {
     "data": {
      "application/vnd.jupyter.widget-view+json": {
       "model_id": "3404abc96a064f14b248068fc6ae3cbf",
       "version_major": 2,
       "version_minor": 0
      },
      "text/plain": [
       "  0%|          | 0/300 [00:00<?, ?it/s]"
      ]
     },
     "metadata": {},
     "output_type": "display_data"
    },
    {
     "name": "stdout",
     "output_type": "stream",
     "text": [
      "Total talks scraped: 6864\n"
     ]
    },
    {
     "data": {
      "application/vnd.jupyter.widget-view+json": {
       "model_id": "8d174009f0d242ddb800f29a2943a37d",
       "version_major": 2,
       "version_minor": 0
      },
      "text/plain": [
       "  0%|          | 0/6864 [00:00<?, ?it/s]"
      ]
     },
     "metadata": {},
     "output_type": "display_data"
    },
    {
     "name": "stdout",
     "output_type": "stream",
     "text": [
      "Saving data to CSV files...\n",
      "Scraping completed! Data saved to CSV files.\n"
     ]
    }
   ],
   "source": [
    "import time\n",
    "from tqdm import tqdm\n",
    "from selenium import webdriver\n",
    "from selenium.webdriver.chrome.service import Service\n",
    "from selenium.webdriver.common.by import By\n",
    "from chromedriver_py import binary_path\n",
    "import pandas as pd\n",
    "import requests\n",
    "\n",
    "MAX_PAGES = 300\n",
    "DELAY = 1\n",
    "chrome_opts = webdriver.ChromeOptions()\n",
    "chrome_opts.add_argument('--headless')\n",
    "chrome_opts.add_argument('--no-sandbox')\n",
    "chrome_opts.add_argument('--disable-dev-shm-usage')\n",
    "chrome_opts.add_argument(\"window-size=1900,800\")\n",
    "\n",
    "def setup_browser():\n",
    "    service = Service(binary_path)\n",
    "    driver = webdriver.Chrome(service=service, options=chrome_opts)\n",
    "    return driver\n",
    "\n",
    "browser = setup_browser()\n",
    "\n",
    "def landing_page():\n",
    "    url = 'https://www.ted.com/talks?sort=newest'\n",
    "    print(\"Opening TED homepage...\")\n",
    "    browser.get(url)\n",
    "    time.sleep(DELAY * 3)\n",
    "    try:\n",
    "        cookie_button = browser.find_element(By.ID, 'onetrust-accept-btn-handler')\n",
    "        cookie_button.click()\n",
    "    except Exception as e:\n",
    "        print(f\"No cookie prompt to handle: {e}\")\n",
    "    time.sleep(DELAY)\n",
    "\n",
    "landing_page()\n",
    "\n",
    "def fetch_metadata(limit):\n",
    "    results = []\n",
    "    for page in tqdm(range(limit), desc=\"Fetching metadata\"):\n",
    "        payload = [{\"indexName\": \"newest\", \"params\": {\"hitsPerPage\": 24, \"page\": page}}]\n",
    "        try:\n",
    "            response = requests.post(\n",
    "                'https://zenith-prod-alt.ted.com/api/search',\n",
    "                headers={'Content-type': 'application/json'},\n",
    "                json=payload\n",
    "            )\n",
    "            if response.status_code == 200:\n",
    "                data = response.json().get('results', [])[0].get(\"hits\", [])\n",
    "                results.extend(data)\n",
    "            else:\n",
    "                print(f\"Failed page {page}: {response.status_code}\")\n",
    "        except Exception as err:\n",
    "            print(f\"Error fetching page {page}: {err}\")\n",
    "        time.sleep(DELAY)\n",
    "    return results\n",
    "\n",
    "metadata = fetch_metadata(MAX_PAGES)\n",
    "\n",
    "\n",
    "def process_metadata(raw_data):\n",
    "    processed = []\n",
    "    for item in raw_data:\n",
    "        slug = item.get(\"slug\", \"N/A\")\n",
    "        processed.append({\n",
    "            'id': item.get(\"objectID\", \"\"),\n",
    "            'slug': slug,\n",
    "            'title': item.get(\"title\", \"\"),\n",
    "            'speakers': item.get(\"speakers\", []),\n",
    "            'url': f'https://www.ted.com/talks/{slug}'\n",
    "        })\n",
    "    return processed\n",
    "\n",
    "metadata_processed = process_metadata(metadata)\n",
    "\n",
    "def fetch_talk_details(talks):\n",
    "    details = []\n",
    "    for talk in tqdm(talks, desc=\"Fetching talk details\"):\n",
    "        slug = talk[\"slug\"]\n",
    "        query = f\"\"\"\n",
    "        {{video(slug: \"{slug}\", language: \"en\") {{\n",
    "            description duration presenterDisplayName publishedAt \n",
    "            topics {{nodes {{name}}}}\n",
    "        }}}}\n",
    "        \"\"\"\n",
    "        try:\n",
    "            response = requests.post(\n",
    "                'https://www.ted.com/graphql',\n",
    "                headers={'Content-type': 'application/json'},\n",
    "                json=[{\"query\": query}]\n",
    "            )\n",
    "            if response.status_code == 200:\n",
    "                data = response.json()[0].get(\"data\", {}).get(\"video\", {})\n",
    "                if data:\n",
    "                    details.append({\n",
    "                        \"slug\": slug,\n",
    "                        \"description\": data.get(\"description\", \"\"),\n",
    "                        \"duration\": data.get(\"duration\", 0),\n",
    "                        \"presenter\": data.get(\"presenterDisplayName\", \"\"),\n",
    "                        \"published_at\": data.get(\"publishedAt\", \"\"),\n",
    "                        \"topics\": [t[\"name\"] for t in data.get(\"topics\", {}).get(\"nodes\", [])]\n",
    "                    })\n",
    "        except Exception as err:\n",
    "            print(f\"Error fetching details for {slug}: {err}\")\n",
    "        time.sleep(DELAY)\n",
    "    return details\n",
    "\n",
    "\n",
    "talk_details = fetch_talk_details(metadata_processed)\n",
    "\n",
    "\n",
    "\n",
    "def save_data(metadata, details):\n",
    "    pd.DataFrame(metadata).to_csv('ted_talks_metadata.csv', index=False)\n",
    "    pd.DataFrame(details).to_csv('ted_talks_details.csv', index=False)\n",
    "    print(\"Data saved successfully.\")\n",
    "\n",
    "save_data(metadata_processed, talk_details)\n"
   ]
  },
  {
   "cell_type": "code",
   "execution_count": null,
   "id": "3c6b44f3",
   "metadata": {},
   "outputs": [],
   "source": []
  },
  {
   "cell_type": "code",
   "execution_count": null,
   "id": "063f6387",
   "metadata": {},
   "outputs": [],
   "source": []
  }
 ],
 "metadata": {
  "kernelspec": {
   "display_name": "Python 3 (ipykernel)",
   "language": "python",
   "name": "python3"
  },
  "language_info": {
   "codemirror_mode": {
    "name": "ipython",
    "version": 3
   },
   "file_extension": ".py",
   "mimetype": "text/x-python",
   "name": "python",
   "nbconvert_exporter": "python",
   "pygments_lexer": "ipython3",
   "version": "3.11.5"
  }
 },
 "nbformat": 4,
 "nbformat_minor": 5
}
